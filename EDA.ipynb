{
 "cells": [
  {
   "cell_type": "markdown",
   "metadata": {},
   "source": [
    "## Toxicity EDA\n",
    "Competition location:  \n",
    "https://www.kaggle.com/c/jigsaw-unintended-bias-in-toxicity-classification  \n",
    "Source code location:  \n",
    "https://www.kaggle.com/dborkan/benchmark-kernel  \n",
    "Credits to:\n",
    "https://www.kaggle.com/thousandvoices/simple-lstm\n",
    "https://www.kaggle.com/nz0722/simple-eda-text-preprocessing-jigsaw"
   ]
  },
  {
   "cell_type": "code",
   "execution_count": 14,
   "metadata": {},
   "outputs": [],
   "source": [
    "import numpy as np\n",
    "import pandas as pd\n",
    "from tqdm import tqdm\n",
    "tqdm.pandas()\n",
    "\n",
    "import warnings\n",
    "warnings.filterwarnings('ignore')\n",
    "\n",
    "import os\n",
    "import gc\n",
    "\n",
    "# from textblob import TextBlob\n",
    "from nltk.sentiment.vader import SentimentIntensityAnalyzer\n",
    "# import gensim\n",
    "\n",
    "from sklearn.model_selection import KFold\n",
    "\n",
    "from keras.layers import *\n",
    "from keras.initializers import *\n",
    "from keras.constraints import *\n",
    "from keras.regularizers import *\n",
    "from keras.activations import *\n",
    "from keras.optimizers import *\n",
    "import keras.backend as K\n",
    "from keras.models import Model\n",
    "from keras.utils import plot_model\n",
    "from keras.utils.vis_utils import model_to_dot\n",
    "from keras.preprocessing.text import Tokenizer\n",
    "from keras.preprocessing.sequence import pad_sequences\n",
    "from keras.callbacks import EarlyStopping, ModelCheckpoint, LearningRateScheduler\n",
    "\n",
    "from IPython.display import SVG\n",
    "import matplotlib.pyplot as plt\n",
    "import seaborn as sns\n",
    "\n",
    "# from wordcloud import WordCloud ,STOPWORDS"
   ]
  },
  {
   "cell_type": "code",
   "execution_count": 15,
   "metadata": {},
   "outputs": [],
   "source": [
    "train = pd.read_csv('/data/ToxicityData/train.csv')\n",
    "test = pd.read_csv('/data/ToxicityData/test.csv')"
   ]
  },
  {
   "cell_type": "code",
   "execution_count": 16,
   "metadata": {},
   "outputs": [
    {
     "data": {
      "text/plain": [
       "id                                                             59859\n",
       "target                                                      0.666667\n",
       "comment_text                                    ur a sh*tty comment.\n",
       "severe_toxicity                                             0.047619\n",
       "obscene                                                     0.638095\n",
       "identity_attack                                                    0\n",
       "insult                                                      0.333333\n",
       "threat                                                             0\n",
       "asian                                                            NaN\n",
       "atheist                                                          NaN\n",
       "bisexual                                                         NaN\n",
       "black                                                            NaN\n",
       "buddhist                                                         NaN\n",
       "christian                                                        NaN\n",
       "female                                                           NaN\n",
       "heterosexual                                                     NaN\n",
       "hindu                                                            NaN\n",
       "homosexual_gay_or_lesbian                                        NaN\n",
       "intellectual_or_learning_disability                              NaN\n",
       "jewish                                                           NaN\n",
       "latino                                                           NaN\n",
       "male                                                             NaN\n",
       "muslim                                                           NaN\n",
       "other_disability                                                 NaN\n",
       "other_gender                                                     NaN\n",
       "other_race_or_ethnicity                                          NaN\n",
       "other_religion                                                   NaN\n",
       "other_sexual_orientation                                         NaN\n",
       "physical_disability                                              NaN\n",
       "psychiatric_or_mental_illness                                    NaN\n",
       "transgender                                                      NaN\n",
       "white                                                            NaN\n",
       "created_date                           2015-09-29 10:50:50.865549+00\n",
       "publication_id                                                     2\n",
       "parent_id                                                        NaN\n",
       "article_id                                                      2006\n",
       "rating                                                      rejected\n",
       "funny                                                              0\n",
       "wow                                                                0\n",
       "sad                                                                0\n",
       "likes                                                              0\n",
       "disagree                                                           0\n",
       "sexual_explicit                                           0.00952381\n",
       "identity_annotator_count                                           0\n",
       "toxicity_annotator_count                                         105\n",
       "Name: 5, dtype: object"
      ]
     },
     "execution_count": 16,
     "metadata": {},
     "output_type": "execute_result"
    }
   ],
   "source": [
    "train.iloc[5,:]"
   ]
  },
  {
   "cell_type": "code",
   "execution_count": null,
   "metadata": {},
   "outputs": [],
   "source": []
  },
  {
   "cell_type": "code",
   "execution_count": 17,
   "metadata": {},
   "outputs": [
    {
     "name": "stdout",
     "output_type": "stream",
     "text": [
      "Length of training data 1804874\n",
      "Length of test data 97320\n"
     ]
    }
   ],
   "source": [
    "print(\"Length of training data\", len(train))\n",
    "print(\"Length of test data\", len(test))\n"
   ]
  },
  {
   "cell_type": "code",
   "execution_count": 18,
   "metadata": {},
   "outputs": [
    {
     "data": {
      "text/plain": [
       "<matplotlib.axes._subplots.AxesSubplot at 0x7f1fdbd810b8>"
      ]
     },
     "execution_count": 18,
     "metadata": {},
     "output_type": "execute_result"
    },
    {
     "data": {
      "image/png": "[encoded data removed]",
      "text/plain": [
       "<Figure size 432x288 with 1 Axes>"
      ]
     },
     "metadata": {
      "needs_background": "light"
     },
     "output_type": "display_data"
    }
   ],
   "source": [
    "sns.distplot(train.target)"
   ]
  },
  {
   "cell_type": "markdown",
   "metadata": {},
   "source": [
    "Most of the comments are not toxic, so this would be an imbalanced class prediction where accuracy does not make a lot of sense"
   ]
  },
  {
   "cell_type": "code",
   "execution_count": 19,
   "metadata": {},
   "outputs": [
    {
     "name": "stdout",
     "output_type": "stream",
     "text": [
      "proportion of >0.5 toxicity 0.05897253769515213\n",
      "proportion of >0.0 toxicity 0.2992508064274847\n"
     ]
    }
   ],
   "source": [
    "print(\"proportion of >0.5 toxicity\", len(train[train.target > 0.5])/len(train))\n",
    "print(\"proportion of >0.0 toxicity\", len(train[train.target > 0.0])/len(train))"
   ]
  },
  {
   "cell_type": "code",
   "execution_count": 20,
   "metadata": {},
   "outputs": [],
   "source": [
    "from sklearn import datasets\n",
    "from sklearn import metrics\n",
    "from sklearn.naive_bayes import GaussianNB"
   ]
  },
  {
   "cell_type": "code",
   "execution_count": 21,
   "metadata": {},
   "outputs": [],
   "source": [
    "from nltk.tokenize import WhitespaceTokenizer\n",
    "tokenizer = WhitespaceTokenizer()"
   ]
  },
  {
   "cell_type": "markdown",
   "metadata": {},
   "source": [
    "## minimum pre-processing and embedding using glove and fasttext"
   ]
  },
  {
   "cell_type": "code",
   "execution_count": 22,
   "metadata": {},
   "outputs": [],
   "source": [
    "def get_coefs(word, *arr):\n",
    "    return word, np.asarray(arr, dtype='float32')\n",
    "\n",
    "\n",
    "def load_embeddings(path):\n",
    "    with open(path) as f:\n",
    "        return dict(get_coefs(*line.strip().split(' ')) for line in f)\n",
    "\n",
    "\n",
    "def build_matrix(word_index, path):\n",
    "    embedding_index = load_embeddings(path)\n",
    "    embedding_matrix = np.zeros((len(word_index) + 1, 300))\n",
    "    for word, i in word_index.items():\n",
    "        try:\n",
    "            embedding_matrix[i] = embedding_index[word]\n",
    "        except KeyError:\n",
    "            pass\n",
    "    return embedding_matrix\n",
    "    \n",
    "\n",
    "def build_model(embedding_matrix, num_aux_targets):\n",
    "    words = Input(shape=(MAX_LEN,))\n",
    "    x = Embedding(*embedding_matrix.shape, weights=[embedding_matrix], trainable=False)(words)\n",
    "    x = SpatialDropout1D(0.3)(x)\n",
    "    x = Bidirectional(CuDNNLSTM(LSTM_UNITS, return_sequences=True))(x)\n",
    "    x = Bidirectional(CuDNNLSTM(LSTM_UNITS, return_sequences=True))(x)\n",
    "\n",
    "    hidden = concatenate([\n",
    "        GlobalMaxPooling1D()(x),\n",
    "        GlobalAveragePooling1D()(x),\n",
    "    ])\n",
    "    hidden = add([hidden, Dense(DENSE_HIDDEN_UNITS, activation='relu')(hidden)])\n",
    "    hidden = add([hidden, Dense(DENSE_HIDDEN_UNITS, activation='relu')(hidden)])\n",
    "    result = Dense(1, activation='sigmoid')(hidden)\n",
    "    aux_result = Dense(num_aux_targets, activation='sigmoid')(hidden)\n",
    "    \n",
    "    model = Model(inputs=words, outputs=[result, aux_result])\n",
    "    model.compile(loss='binary_crossentropy', optimizer='adam')\n",
    "\n",
    "    return model\n",
    "    \n",
    "\n",
    "def preprocess(data):\n",
    "    '''\n",
    "    Credit goes to https://www.kaggle.com/gpreda/jigsaw-fast-compact-solution\n",
    "    '''\n",
    "    punct = \"/-'?!.,#$%\\'()*+-/:;<=>@[\\\\]^_`{|}~`\" + '\"\"“”’' + '∞θ÷α•à−β∅³π‘₹´°£€\\×™√²—–&'\n",
    "    def clean_special_chars(text, punct):\n",
    "        for p in punct:\n",
    "            text = text.replace(p, ' ')\n",
    "        return text\n",
    "\n",
    "    data = data.astype(str).apply(lambda x: clean_special_chars(x, punct))\n",
    "    return data"
   ]
  },
  {
   "cell_type": "code",
   "execution_count": 23,
   "metadata": {},
   "outputs": [],
   "source": [
    "import numpy as np\n",
    "import pandas as pd\n",
    "from keras.models import Model\n",
    "from keras.layers import Input, Dense, Embedding, SpatialDropout1D, Dropout, add, concatenate\n",
    "from keras.layers import CuDNNLSTM, Bidirectional, GlobalMaxPooling1D, GlobalAveragePooling1D\n",
    "from keras.preprocessing import text, sequence\n",
    "\n",
    "\n",
    "\n",
    "EMBEDDING_FILES = [\n",
    "    '/data/embed/crawl-300d-2M.vec',\n",
    "    '/data/embed/glove.840B.300d.txt'\n",
    "]\n",
    "\n",
    "\n",
    "x_train = preprocess(train['comment_text'])\n",
    "y_train = np.where(train['target'] >= 0.5, 1, 0)\n",
    "y_aux_train = train[['target', 'severe_toxicity', 'obscene', 'identity_attack', 'insult', 'threat']]\n",
    "x_test = preprocess(test['comment_text'])\n"
   ]
  },
  {
   "cell_type": "code",
   "execution_count": 24,
   "metadata": {},
   "outputs": [],
   "source": [
    "NUM_MODELS = 2\n",
    "BATCH_SIZE = 512\n",
    "LSTM_UNITS = 128\n",
    "DENSE_HIDDEN_UNITS = 4 * LSTM_UNITS\n",
    "EPOCHS = 4\n",
    "MAX_LEN = 220"
   ]
  },
  {
   "cell_type": "code",
   "execution_count": 25,
   "metadata": {},
   "outputs": [
    {
     "name": "stdout",
     "output_type": "stream",
     "text": [
      "Epoch 1/1\n",
      " - 735s - loss: 0.2380 - dense_7_loss: 0.1306 - dense_8_loss: 0.1073\n",
      "Epoch 1/1\n",
      " - 733s - loss: 0.2178 - dense_7_loss: 0.1151 - dense_8_loss: 0.1028\n",
      "Epoch 1/1\n",
      " - 735s - loss: 0.2118 - dense_7_loss: 0.1100 - dense_8_loss: 0.1018\n",
      "Epoch 1/1\n",
      " - 733s - loss: 0.2075 - dense_7_loss: 0.1062 - dense_8_loss: 0.1013\n",
      "Epoch 1/1\n",
      " - 736s - loss: 0.2380 - dense_11_loss: 0.1307 - dense_12_loss: 0.1073\n",
      "Epoch 1/1\n",
      " - 735s - loss: 0.2176 - dense_11_loss: 0.1149 - dense_12_loss: 0.1027\n",
      "Epoch 1/1\n",
      " - 736s - loss: 0.2116 - dense_11_loss: 0.1098 - dense_12_loss: 0.1018\n",
      "Epoch 1/1\n",
      " - 736s - loss: 0.2070 - dense_11_loss: 0.1057 - dense_12_loss: 0.1012\n"
     ]
    }
   ],
   "source": [
    "\n",
    "tokenizer = text.Tokenizer()\n",
    "tokenizer.fit_on_texts(list(x_train) + list(x_test))\n",
    "\n",
    "x_train = tokenizer.texts_to_sequences(x_train)\n",
    "x_test = tokenizer.texts_to_sequences(x_test)\n",
    "x_train = sequence.pad_sequences(x_train, maxlen=MAX_LEN)\n",
    "x_test = sequence.pad_sequences(x_test, maxlen=MAX_LEN)\n",
    "\n",
    "embedding_matrix = np.concatenate(\n",
    "    [build_matrix(tokenizer.word_index, f) for f in EMBEDDING_FILES], axis=-1)\n",
    "    \n",
    "checkpoint_predictions = []\n",
    "weights = []\n",
    "\n",
    "for model_idx in range(NUM_MODELS):\n",
    "    model = build_model(embedding_matrix, y_aux_train.shape[-1])\n",
    "    for global_epoch in range(EPOCHS):\n",
    "        model.fit(\n",
    "            x_train,\n",
    "            [y_train, y_aux_train],\n",
    "            batch_size=BATCH_SIZE,\n",
    "            epochs=1,\n",
    "            verbose=2,\n",
    "            callbacks=[\n",
    "                LearningRateScheduler(lambda epoch: 1e-3 * (0.6 ** global_epoch))\n",
    "            ]\n",
    "        )\n",
    "        checkpoint_predictions.append(model.predict(x_test, batch_size=2048)[0].flatten())\n",
    "        weights.append(2 ** global_epoch)\n",
    "\n",
    "predictions = np.average(checkpoint_predictions, weights=weights, axis=0)\n",
    "\n"
   ]
  },
  {
   "cell_type": "code",
   "execution_count": 26,
   "metadata": {},
   "outputs": [],
   "source": [
    "submission = pd.DataFrame.from_dict({\n",
    "    'id': test['id'],\n",
    "    'prediction': predictions\n",
    "})\n",
    "\n",
    "submission.to_csv('submission.csv', index=False)"
   ]
  },
  {
   "cell_type": "code",
   "execution_count": 34,
   "metadata": {},
   "outputs": [
    {
     "name": "stdout",
     "output_type": "stream",
     "text": [
      "i = 0\n",
      "prediction 0.0018541306257247926\n",
      "sentence Jeff Sessions is another one of Trump's Orwellian choices. He believes and has believed his entire career the exact opposite of what the position requires.\n",
      "i = 1\n",
      "prediction 2.6900569597880045e-05\n",
      "sentence I actually inspected the infrastructure on Grand Chief Stewart Philip's home Penticton First Nation in both 2010 and 2013.  Exactly Zero projects that had been identified in previous inspection reports had been funded by the federal government, and the entire band was housed in ATCO trailers.  Clearly the Harper Conservatives had already reduced the cash his band was sent to zero.\n",
      "i = 2\n",
      "prediction 0.0057537813981374105\n",
      "sentence No it won't . That's just wishful thinking on democrats fault .   For the 100 th time , Walker cited the cost of drug users treatment as being lost with Obamacare .  I laugh every time I hear a liberal claim republicans want to hurt people , and that's why they dumped Obamacare.\n",
      "i = 3\n",
      "prediction 0.0027022322018941244\n",
      "sentence Instead of wringing our hands and nibbling the periphery of the issue, how about we face the actual issue head on? I would support a city ordinance against loitering, and applaud city councilors who champion a real and permanent solution.\n",
      "\n",
      "The details could be determined, but would include a limit to persons sitting, standing, lying, smoking, conversing over a certain amount of time, perhaps 10 minutes. Exceptions, of course, would be for shopping, dining, attending a licensed and approved event, etc.\n",
      "\n",
      "It is noble to provide some services for the truly needy in our community, but that, in my estimation, is a separate issue. I do not wish for my city to provide for nor encourage idle and harassing behaviors in our city core.\n",
      "\n",
      "Enough is enough!\n",
      "i = 4\n",
      "prediction 0.9776043395201365\n",
      "sentence how many of you commenters have garbage piled high in your yard, bald tires, dead batteries, rotten pallets, car parts, blah blah blah. this town is a pigpen. drive around and look for yourself, its pathetic.\n"
     ]
    }
   ],
   "source": [
    "for i in range(5):\n",
    "    print(\"i =\", i)\n",
    "    print(\"prediction\", submission.iloc[i,1])\n",
    "    print(\"sentence\", test.iloc[i,1])    "
   ]
  },
  {
   "cell_type": "code",
   "execution_count": 36,
   "metadata": {},
   "outputs": [
    {
     "name": "stdout",
     "output_type": "stream",
     "text": [
      "i = 4\n",
      "prediction 0.9776043395201365\n",
      "how many of you commenters have garbage piled high in your yard, bald tires, dead batteries, rotten pallets, car parts, blah blah blah. this town is a pigpen. drive around and look for yourself, its pathetic.\n",
      "i = 24\n",
      "prediction 0.9399931748708089\n",
      "Corrupt hypocrites throughout he government. Of the money, by the money and for the money. Brought to you by the jesus freaks cause birds of a feather flock together.\n",
      "i = 55\n",
      "prediction 0.9726092259089152\n",
      "Fool.\n",
      "i = 90\n",
      "prediction 0.9952839493751526\n",
      "LIAR LIAR PANTS ON FIRE......how dumb does he think we are.  We think justin is extremely dumb.  What a goof ball. He is gets in deeper and deeper over his head.  Time to hold him up as an adult and stop allowing him to think and speak.\n"
     ]
    }
   ],
   "source": [
    "for i in range(100):\n",
    "    if  submission.iloc[i,1] < 0.5:\n",
    "        continue\n",
    "    else: \n",
    "        print(\"i =\", i)\n",
    "        print(\"prediction\", submission.iloc[i,1])\n",
    "        print(test.iloc[i,1])  "
   ]
  },
  {
   "cell_type": "markdown",
   "metadata": {},
   "source": [
    "how offensive is offensive? Especially in political discussions, opposing party's comment can often appear offensive"
   ]
  },
  {
   "cell_type": "code",
   "execution_count": null,
   "metadata": {},
   "outputs": [],
   "source": []
  }
 ],
 "metadata": {
  "kernelspec": {
   "display_name": "Python 3",
   "language": "python",
   "name": "python3"
  },
  "language_info": {
   "codemirror_mode": {
    "name": "ipython",
    "version": 3
   },
   "file_extension": ".py",
   "mimetype": "text/x-python",
   "name": "python",
   "nbconvert_exporter": "python",
   "pygments_lexer": "ipython3",
   "version": "3.5.2"
  }
 },
 "nbformat": 4,
 "nbformat_minor": 2
}
